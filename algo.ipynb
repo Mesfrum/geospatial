{
 "cells": [
  {
   "cell_type": "code",
   "execution_count": 122,
   "metadata": {},
   "outputs": [],
   "source": [
    "import requests\n",
    "from pprint import pprint\n",
    "import numpy as np\n",
    "import random\n",
    "import math\n",
    "from typing import List, Optional, Tuple\n",
    "import msgspec"
   ]
  },
  {
   "cell_type": "code",
   "execution_count": 152,
   "metadata": {},
   "outputs": [],
   "source": [
    "coords = [[19.0, 72.8], [28.6, 77.2], [12.9, 77.5], [13.0, 80.2]]\n",
    "# coords = [\n",
    "#     [18.9220, 72.8347],\n",
    "#     [28.6129, 77.2295],\n",
    "#     [12.9698, 77.7500],\n",
    "#     [13.0832, 80.2755],\n",
    "# ]\n",
    "\n",
    "# coords = [\n",
    "#     (40.7128, -74.0060),  # New York City, USA\n",
    "#     (34.0522, -118.2437),  # Los Angeles, USA\n",
    "#     (41.8781, -87.6298),  # Chicago, USA\n",
    "#     (45.5017, -73.5673),  # Montreal, Canada\n",
    "# ]\n",
    "\n",
    "OSRM_BASE_URL = \"http://router.project-osrm.org\"\n",
    "MATRIX_URL = f\"{OSRM_BASE_URL}/table/v1/driving/\"\n",
    "ROUTES_URL = f\"{OSRM_BASE_URL}/route/v1/driving/\"\n",
    "\n",
    "# [19.0, 72.8] - Mumbai, Maharashtra, India.\n",
    "# [28.6, 77.2] - Delhi, India.\n",
    "# [12.9, 77.5] - Bangalore (Bengaluru), Karnataka, India.\n",
    "# [13.0, 80.2] - Chennai, Tamil Nadu, India."
   ]
  },
  {
   "cell_type": "code",
   "execution_count": 120,
   "metadata": {},
   "outputs": [],
   "source": [
    "# schemas\n",
    "\n",
    "\n",
    "class Waypoint(msgspec.Struct):\n",
    "    location: List[float]\n",
    "\n",
    "\n",
    "class RouteResponse(msgspec.Struct):\n",
    "    code: str\n",
    "    waypoints: List[Waypoint]\n",
    "\n",
    "\n",
    "class DistanceMatrixResponse(msgspec.Struct):\n",
    "    distances: Optional[List[List[float]]]"
   ]
  },
  {
   "cell_type": "code",
   "execution_count": 83,
   "metadata": {},
   "outputs": [],
   "source": [
    "def is_valid_coordinate(coordinate):\n",
    "    # Ensure the coordinate is a list and has exactly two elements\n",
    "    if not isinstance(coordinate, list) or len(coordinate) != 2:\n",
    "        return False\n",
    "\n",
    "    lat, lon = coordinate\n",
    "\n",
    "    # Ensure latitude and longitude are floats and within valid ranges\n",
    "    if not isinstance(lat, (int, float)) or not isinstance(lon, (int, float)):\n",
    "        return False\n",
    "    if not (-90 <= lat <= 90) or not (-180 <= lon <= 180):\n",
    "        return False\n",
    "\n",
    "    return True"
   ]
  },
  {
   "cell_type": "code",
   "execution_count": 84,
   "metadata": {},
   "outputs": [
    {
     "name": "stdout",
     "output_type": "stream",
     "text": [
      "all well\n"
     ]
    }
   ],
   "source": [
    "try:\n",
    "    for i, coord in enumerate(coords):\n",
    "        if not is_valid_coordinate(coord):\n",
    "            raise Exception(\"Invalid coordinate found\", coordinate)\n",
    "except Exception as error:\n",
    "    print(error)\n",
    "\n",
    "print(\"all well\")"
   ]
  },
  {
   "cell_type": "code",
   "execution_count": 85,
   "metadata": {},
   "outputs": [],
   "source": [
    "def fetch_distance_matrix(\n",
    "    coordinates: List[List[float]],\n",
    ") -> Optional[List[List[float]]]:\n",
    "    params = \"\"\n",
    "    for coordinate in coordinates:\n",
    "        lat, long = coordinate\n",
    "        params += f\"{long},{lat};\"\n",
    "\n",
    "    params = params.rstrip(\";\")\n",
    "    url = f\"{MATRIX_URL}{params}?annotations=distance&skip_waypoints=true\"\n",
    "    print(url)\n",
    "\n",
    "    try:\n",
    "        response = requests.get(url)\n",
    "        response.raise_for_status()\n",
    "        parsed_response = msgspec.json.decode(\n",
    "            response.content, type=DistanceMatrixResponse\n",
    "        )\n",
    "        return parsed_response.distances\n",
    "    except requests.exceptions.RequestException as e:\n",
    "        print(f\"Error : {e}\")\n",
    "        return None"
   ]
  },
  {
   "cell_type": "code",
   "execution_count": 87,
   "metadata": {},
   "outputs": [],
   "source": [
    "def nearest_neighbor_tsp(distance_matrix):\n",
    "    n = len(distance_matrix)\n",
    "    unvisited = set(range(1, n))  # Exclude the starting point (0)\n",
    "    route = [0]  # Start from the first point\n",
    "    total_distance = 0\n",
    "\n",
    "    while unvisited:\n",
    "        last = route[-1]\n",
    "        next_point = min(unvisited, key=lambda x: distance_matrix[last][x])\n",
    "        route.append(next_point)\n",
    "        unvisited.remove(next_point)\n",
    "        total_distance += distance_matrix[last][next_point]\n",
    "\n",
    "    # Return to the starting point\n",
    "    route.append(0)\n",
    "    total_distance += distance_matrix[route[-2]][0]\n",
    "\n",
    "    return route, total_distance"
   ]
  },
  {
   "cell_type": "code",
   "execution_count": 88,
   "metadata": {},
   "outputs": [],
   "source": [
    "def simulated_annealing_tsp(\n",
    "    distance_matrix, initial_temp=1000, cooling_rate=0.995, iterations=10000\n",
    "):\n",
    "    def calculate_total_distance(route):\n",
    "        return sum(distance_matrix[route[i - 1]][route[i]] for i in range(len(route)))\n",
    "\n",
    "    def swap_cities(route):\n",
    "        i, j = random.sample(range(1, len(route) - 1), 2)\n",
    "        new_route = route.copy()\n",
    "        new_route[i], new_route[j] = new_route[j], new_route[i]\n",
    "        return new_route\n",
    "\n",
    "    current_route, _ = nearest_neighbor_tsp(distance_matrix)\n",
    "    current_distance = calculate_total_distance(current_route)\n",
    "    best_route = current_route\n",
    "    best_distance = current_distance\n",
    "    temperature = initial_temp\n",
    "\n",
    "    for _ in range(iterations):\n",
    "        new_route = swap_cities(current_route)\n",
    "        new_distance = calculate_total_distance(new_route)\n",
    "\n",
    "        if new_distance < current_distance or random.random() < math.exp(\n",
    "            (current_distance - new_distance) / temperature\n",
    "        ):\n",
    "            current_route = new_route\n",
    "            current_distance = new_distance\n",
    "\n",
    "            if current_distance < best_distance:\n",
    "                best_route = current_route\n",
    "                best_distance = current_distance\n",
    "\n",
    "        temperature *= cooling_rate\n",
    "\n",
    "    return best_route, best_distance"
   ]
  },
  {
   "cell_type": "code",
   "execution_count": 89,
   "metadata": {},
   "outputs": [],
   "source": [
    "def two_opt_tsp(distance_matrix, initial_route=None, max_iterations=1000):\n",
    "    if initial_route is None:\n",
    "        initial_route, _ = nearest_neighbor_tsp(distance_matrix)\n",
    "\n",
    "    def calculate_total_distance(route):\n",
    "        return sum(distance_matrix[route[i - 1]][route[i]] for i in range(len(route)))\n",
    "\n",
    "    best_route = initial_route\n",
    "    best_distance = calculate_total_distance(best_route)\n",
    "    improved = True\n",
    "    iterations = 0\n",
    "\n",
    "    while improved and iterations < max_iterations:\n",
    "        improved = False\n",
    "        for i in range(1, len(best_route) - 2):\n",
    "            for j in range(i + 1, len(best_route) - 1):\n",
    "                new_route = (\n",
    "                    best_route[:i] + best_route[i : j + 1][::-1] + best_route[j + 1 :]\n",
    "                )\n",
    "                new_distance = calculate_total_distance(new_route)\n",
    "                if new_distance < best_distance:\n",
    "                    best_route = new_route\n",
    "                    best_distance = new_distance\n",
    "                    improved = True\n",
    "        iterations += 1\n",
    "\n",
    "    return best_route, best_distance"
   ]
  },
  {
   "cell_type": "code",
   "execution_count": 123,
   "metadata": {},
   "outputs": [],
   "source": [
    "def haversine_distance(\n",
    "    coord1: Tuple[float, float], coord2: Tuple[float, float]\n",
    ") -> float:\n",
    "    \"\"\"Calculate the great circle distance between two points on the earth.\"\"\"\n",
    "    lat1, lon1 = math.radians(coord1[0]), math.radians(coord1[1])\n",
    "    lat2, lon2 = math.radians(coord2[0]), math.radians(coord2[1])\n",
    "\n",
    "    dlat = lat2 - lat1\n",
    "    dlon = lon2 - lon1\n",
    "\n",
    "    a = (\n",
    "        math.sin(dlat / 2) ** 2\n",
    "        + math.cos(lat1) * math.cos(lat2) * math.sin(dlon / 2) ** 2\n",
    "    )\n",
    "    c = 2 * math.atan2(math.sqrt(a), math.sqrt(1 - a))\n",
    "\n",
    "    # Radius of earth in kilometers\n",
    "    r = 6371\n",
    "\n",
    "    return r * c"
   ]
  },
  {
   "cell_type": "code",
   "execution_count": 135,
   "metadata": {},
   "outputs": [],
   "source": [
    "def match_coordinates(\n",
    "    original_coords: List[Tuple[float, float]],\n",
    "    snapped_coords: List[Tuple[float, float]],\n",
    ") -> List[int]:\n",
    "    \"\"\"Match snapped coordinates to original coordinates based on closest distance.\"\"\"\n",
    "    matched_indices = []\n",
    "    for snapped_coord in snapped_coords:\n",
    "        distances = [\n",
    "            haversine_distance(snapped_coord, orig_coord)\n",
    "            for orig_coord in original_coords\n",
    "        ]\n",
    "        closest_index = distances.index(min(distances))\n",
    "        matched_indices.append(closest_index)\n",
    "    return matched_indices\n",
    "\n",
    "\n",
    "def fetch_routes(coordinates: list):\n",
    "    params = \";\".join(f\"{long},{lat}\" for lat, long in coordinates)\n",
    "    url = f\"{ROUTES_URL}{params}\"\n",
    "    print(f\"Request URL: {url}\")\n",
    "\n",
    "    try:\n",
    "        response = requests.get(url)\n",
    "        response.raise_for_status()\n",
    "        route_data = msgspec.json.decode(response.content, type=RouteResponse)\n",
    "\n",
    "        print(\"Parsed route data:\", route_data)\n",
    "\n",
    "        # Extract the original coordinates\n",
    "        original_coords = [(coord[0], coord[1]) for coord in coordinates]\n",
    "        print(\"Original coordinates:\")\n",
    "        pprint(original_coords)\n",
    "\n",
    "        # Extract the snapped coordinates from the response\n",
    "        snapped_coords = [\n",
    "            (waypoint.location[1], waypoint.location[0])\n",
    "            for waypoint in route_data.waypoints\n",
    "        ]\n",
    "        print(\"Snapped coordinates:\")\n",
    "        pprint(snapped_coords)\n",
    "\n",
    "        # Match snapped coordinates to original coordinates\n",
    "        waypoint_order = match_coordinates(original_coords, snapped_coords)\n",
    "\n",
    "        return waypoint_order\n",
    "    except requests.exceptions.RequestException as e:\n",
    "        print(f\"Error: {e}\")\n",
    "        return None"
   ]
  },
  {
   "cell_type": "code",
   "execution_count": 136,
   "metadata": {},
   "outputs": [
    {
     "name": "stdout",
     "output_type": "stream",
     "text": [
      "Request URL: http://router.project-osrm.org/route/v1/driving/72.8347,18.922;77.2295,28.6129;77.75,12.9698;80.2755,13.0832\n",
      "Parsed route data: RouteResponse(code='Ok', waypoints=[Waypoint(location=[72.83374, 18.922257]), Waypoint(location=[77.227663, 28.612962]), Waypoint(location=[77.750001, 12.969822]), Waypoint(location=[80.276113, 13.083277])])\n",
      "Original coordinates:\n",
      "[(18.922, 72.8347), (28.6129, 77.2295), (12.9698, 77.75), (13.0832, 80.2755)]\n",
      "Snapped coordinates:\n",
      "[(18.922257, 72.83374),\n",
      " (28.612962, 77.227663),\n",
      " (12.969822, 77.750001),\n",
      " (13.083277, 80.276113)]\n",
      "[0, 1, 2, 3]\n"
     ]
    }
   ],
   "source": [
    "pprint(fetch_routes(coords))"
   ]
  },
  {
   "cell_type": "code",
   "execution_count": 153,
   "metadata": {},
   "outputs": [
    {
     "name": "stdout",
     "output_type": "stream",
     "text": [
      "http://router.project-osrm.org/table/v1/driving/72.8,19.0;77.2,28.6;77.5,12.9;80.2,13.0?annotations=distance&skip_waypoints=true\n",
      "[[0.0, 1388047.9, 995846.7, 1246260.8],\n",
      " [1400477.8, 0.0, 2083839.0, 2121598.0],\n",
      " [1005837.6, 2125396.8, 0.0, 343205.8],\n",
      " [1251204.0, 2120450.8, 338355.5, 0.0]]\n"
     ]
    }
   ],
   "source": [
    "matrix = fetch_distance_matrix(coordinates=coords)\n",
    "if not matrix:\n",
    "    print(\"error\")\n",
    "else:\n",
    "    pprint(matrix)"
   ]
  },
  {
   "cell_type": "code",
   "execution_count": 154,
   "metadata": {},
   "outputs": [
    {
     "name": "stdout",
     "output_type": "stream",
     "text": [
      "+---------------------+-----------------+----------------+\n",
      "|      Algorithm      |      Route      | Total Distance |\n",
      "+---------------------+-----------------+----------------+\n",
      "|   Nearest Neighbor  | [0, 2, 3, 1, 0] |   4859981.1    |\n",
      "| Simulated Annealing | [0, 1, 3, 2, 0] |   4853839.0    |\n",
      "|       Two-Opt       | [0, 1, 3, 2, 0] |   4853839.0    |\n",
      "+---------------------+-----------------+----------------+\n"
     ]
    }
   ],
   "source": [
    "from prettytable import PrettyTable\n",
    "\n",
    "# Find the shortest route using different TSP algorithms\n",
    "nearest_route, nearest_distance = nearest_neighbor_tsp(matrix)\n",
    "simulated_route, simulated_distance = simulated_annealing_tsp(matrix)\n",
    "optimized_route, optimized_distance = two_opt_tsp(matrix)\n",
    "\n",
    "# Create a PrettyTable instance\n",
    "table = PrettyTable()\n",
    "table.field_names = [\"Algorithm\", \"Route\", \"Total Distance\"]\n",
    "\n",
    "# Add rows to the table\n",
    "table.add_row([\"Nearest Neighbor\", nearest_route, nearest_distance])\n",
    "table.add_row([\"Simulated Annealing\", simulated_route, simulated_distance])\n",
    "table.add_row([\"Two-Opt\", optimized_route, optimized_distance])\n",
    "\n",
    "# Print the table\n",
    "print(table)\n"
   ]
  },
  {
   "cell_type": "markdown",
   "metadata": {},
   "source": [
    "**TODO**\n",
    "\n",
    "1. Understand 3 algos used\n",
    "2. Implement Lin-Kernighan-Helsgaun (LKH) algo\n",
    "3. Becnchmark 4 algos. for performamce and accuracy\n",
    "4. More advanced algos\n",
    "\n",
    "5. MST for TSP\n",
    "6. Wahtch yt for same\n"
   ]
  },
  {
   "cell_type": "code",
   "execution_count": null,
   "metadata": {},
   "outputs": [],
   "source": []
  }
 ],
 "metadata": {
  "kernelspec": {
   "display_name": "venv",
   "language": "python",
   "name": "python3"
  },
  "language_info": {
   "codemirror_mode": {
    "name": "ipython",
    "version": 3
   },
   "file_extension": ".py",
   "mimetype": "text/x-python",
   "name": "python",
   "nbconvert_exporter": "python",
   "pygments_lexer": "ipython3",
   "version": "3.10.8"
  }
 },
 "nbformat": 4,
 "nbformat_minor": 2
}
